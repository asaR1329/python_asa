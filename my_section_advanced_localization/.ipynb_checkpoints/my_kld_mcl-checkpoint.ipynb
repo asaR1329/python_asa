{
 "cells": [
  {
   "cell_type": "code",
   "execution_count": 8,
   "id": "2bb8e2b7",
   "metadata": {},
   "outputs": [],
   "source": [
    "import sys ###kldmcl1header\n",
    "sys.path.append('../scripts/')\n",
    "from mcl import *\n",
    "from scipy.stats import norm,chi2  #norm:ガウス分布，chi2:カイ二乗分布"
   ]
  },
  {
   "cell_type": "code",
   "execution_count": 9,
   "id": "fd360aca",
   "metadata": {},
   "outputs": [],
   "source": [
    "class KldMcl(Mcl):\n",
    "    def __init__(self, envmap, init_pose, max_num, motion_noise_stds={\"nn\":0.19, \"no\":0.001, \"on\":0.13, \"oo\":0.2},\n",
    "                 distance_dev_rate=0.14, direction_dev=0.05, \n",
    "                widths = np.array([0.2, 0.2, math.pi/18]).T, epsilon=0.1, delta=0.01): #パーティクル数numをmax_numに。KLD用のパラメータを追加\n",
    "        super().__init__(envmap, init_pose, 1, motion_noise_stds, distance_dev_rate, direction_dev) #最初のパーティクルを1個に\n",
    "        self.widths = widths   #各ビンのxyθの幅\n",
    "        self.max_num = max_num #パーティクル数の上限\n",
    "        self.epsilon = epsilon #ε\n",
    "        self.delta = delta     #δ\n",
    "        self.binnum = 0        #ビンの数k\n",
    "        \n",
    "    def motion_update(self, nu, omega, time):\n",
    "        ws = [e.weight for e in self.particles] # 重みのリストを作る\n",
    "        if sum(ws) < 1e-100: ws = [e + 1e-100 for e in ws] #重みの和がゼロに丸め込まれるとサンプリングできなくなるので小さな数を足しておく\n",
    "        \n",
    "        new_particles = [] #新しいパーティクルのリスト（最終的にself.particlesになる）\n",
    "        bins = set() #ビンのインデックスを登録しておくセット\n",
    "        for i in range(self.max_num): #リサンプリングの処理\n",
    "            chosen_p = random.choices(self.particles, weights=ws)  #1つだけ選ぶ（リストに1個だけ入っている）\n",
    "            p = copy.deepcopy(chosen_p[0]) #選んだパーティクルのコピー\n",
    "            p.motion_update(nu, omega, time, self.motion_noise_rate_pdf) #移動\n",
    "            bins.add(tuple(math.floor(e) for e in p.pose/self.widths)) #どのビンに入るか計算，パーティクルの姿勢の各軸をビンの幅で割ってビンの番号にする\n",
    "            new_particles.append(p) #新しいパーティクルのリストに追加\n",
    "            \n",
    "            self.binnum = len(bins) if len(bins) > 1 else 2 #ビンの数が1の場合2にしないと次の行の計算ができない\n",
    "            if  len(new_particles) > math.ceil(chi2.ppf(1.0 - self.delta, self.binnum-1)/(2*self.epsilon)): #パーティクル数の決定，パーティクルが新しいビンに入ると右辺が増えるが，だんだん確率は小さくなる．そのうち左辺が右辺より大きくなる\n",
    "                break\n",
    "            \n",
    "        self.particles = new_particles\n",
    "        for i in range(len(self.particles)): #正規化\n",
    "            self.particles[i].weight = 1.0/len(self.particles)\n",
    "            \n",
    "    def observation_update(self, observation):\n",
    "        for p in self.particles:\n",
    "            p.observation_update(observation, self.map, self.distance_dev_rate, self.direction_dev) \n",
    "        self.set_ml()\n",
    "#     self.resampling() #motion_updateでリサンプリングするので削除\n",
    "\n",
    "    def draw(self, ax, elems):  \n",
    "        super().draw(ax, elems)\n",
    "        elems.append(ax.text(-4.5, -4.5, \"paricle:{}, bin:{}\".format(len(self.particles), self.binnum), fontsize=10)) #パーティクルとビンの数を表示"
   ]
  },
  {
   "cell_type": "code",
   "execution_count": 11,
   "id": "dc064013",
   "metadata": {},
   "outputs": [
    {
     "ename": "NameError",
     "evalue": "name 'EstimatorAgent' is not defined",
     "output_type": "error",
     "traceback": [
      "\u001b[1;31m---------------------------------------------------------------------------\u001b[0m",
      "\u001b[1;31mNameError\u001b[0m                                 Traceback (most recent call last)",
      "\u001b[1;32m~\\AppData\\Local\\Temp/ipykernel_26092/4175081169.py\u001b[0m in \u001b[0;36m<module>\u001b[1;34m\u001b[0m\n\u001b[0;32m     12\u001b[0m     \u001b[0minitial_pose\u001b[0m \u001b[1;33m=\u001b[0m \u001b[0mnp\u001b[0m\u001b[1;33m.\u001b[0m\u001b[0marray\u001b[0m\u001b[1;33m(\u001b[0m\u001b[1;33m[\u001b[0m\u001b[1;36m0\u001b[0m\u001b[1;33m,\u001b[0m \u001b[1;36m0\u001b[0m\u001b[1;33m,\u001b[0m \u001b[1;36m0\u001b[0m\u001b[1;33m]\u001b[0m\u001b[1;33m)\u001b[0m\u001b[1;33m.\u001b[0m\u001b[0mT\u001b[0m\u001b[1;33m\u001b[0m\u001b[1;33m\u001b[0m\u001b[0m\n\u001b[0;32m     13\u001b[0m     \u001b[0mpf\u001b[0m \u001b[1;33m=\u001b[0m \u001b[0mKldMcl\u001b[0m\u001b[1;33m(\u001b[0m\u001b[0mm\u001b[0m\u001b[1;33m,\u001b[0m \u001b[0minitial_pose\u001b[0m\u001b[1;33m,\u001b[0m \u001b[1;36m1000\u001b[0m\u001b[1;33m)\u001b[0m\u001b[1;31m#KldMclにする\u001b[0m\u001b[1;33m\u001b[0m\u001b[1;33m\u001b[0m\u001b[0m\n\u001b[1;32m---> 14\u001b[1;33m     \u001b[0ma\u001b[0m \u001b[1;33m=\u001b[0m \u001b[0mEstimatorAgent\u001b[0m\u001b[1;33m(\u001b[0m\u001b[0mtime_interval\u001b[0m\u001b[1;33m,\u001b[0m \u001b[1;36m0.2\u001b[0m\u001b[1;33m,\u001b[0m \u001b[1;36m10.0\u001b[0m\u001b[1;33m/\u001b[0m\u001b[1;36m180\u001b[0m\u001b[1;33m*\u001b[0m\u001b[0mmath\u001b[0m\u001b[1;33m.\u001b[0m\u001b[0mpi\u001b[0m\u001b[1;33m,\u001b[0m \u001b[0mpf\u001b[0m\u001b[1;33m)\u001b[0m\u001b[1;33m\u001b[0m\u001b[1;33m\u001b[0m\u001b[0m\n\u001b[0m\u001b[0;32m     15\u001b[0m     \u001b[0mr\u001b[0m \u001b[1;33m=\u001b[0m \u001b[0mRobot\u001b[0m\u001b[1;33m(\u001b[0m\u001b[0minitial_pose\u001b[0m\u001b[1;33m,\u001b[0m \u001b[0msensor\u001b[0m\u001b[1;33m=\u001b[0m\u001b[0mCamera\u001b[0m\u001b[1;33m(\u001b[0m\u001b[0mm\u001b[0m\u001b[1;33m)\u001b[0m\u001b[1;33m,\u001b[0m \u001b[0magent\u001b[0m\u001b[1;33m=\u001b[0m\u001b[0ma\u001b[0m\u001b[1;33m,\u001b[0m \u001b[0mcolor\u001b[0m\u001b[1;33m=\u001b[0m\u001b[1;34m\"red\"\u001b[0m\u001b[1;33m)\u001b[0m\u001b[1;33m\u001b[0m\u001b[1;33m\u001b[0m\u001b[0m\n\u001b[0;32m     16\u001b[0m     \u001b[0mworld\u001b[0m\u001b[1;33m.\u001b[0m\u001b[0mappend\u001b[0m\u001b[1;33m(\u001b[0m\u001b[0mr\u001b[0m\u001b[1;33m)\u001b[0m\u001b[1;33m\u001b[0m\u001b[1;33m\u001b[0m\u001b[0m\n",
      "\u001b[1;31mNameError\u001b[0m: name 'EstimatorAgent' is not defined"
     ]
    }
   ],
   "source": [
    "if __name__ == '__main__':  ###kldmcl1exec\n",
    "    time_interval = 0.1\n",
    "    world = World(30, time_interval, debug=False) \n",
    "\n",
    "    #図を生成して2つランドマークを追加\n",
    "    m = Map()\n",
    "    m.append_landmark(Landmark(2,-3))\n",
    "    m.append_landmark(Landmark(3,3))\n",
    "    world.append(m)          \n",
    "\n",
    "    ## ロボットを作る ##\n",
    "    initial_pose = np.array([0, 0, 0]).T\n",
    "    pf = KldMcl(m, initial_pose, 1000)#KldMclにする\n",
    "    a = EstimatorAgent(time_interval, 0.2, 10.0/180*math.pi, pf) \n",
    "    r = Robot(initial_pose, sensor=Camera(m), agent=a, color=\"red\")\n",
    "    world.append(r)\n",
    "\n",
    "    world.draw()"
   ]
  },
  {
   "cell_type": "code",
   "execution_count": 4,
   "id": "6d50998e",
   "metadata": {},
   "outputs": [
    {
     "data": {
      "text/plain": [
       "(-1, 10, 17)"
      ]
     },
     "execution_count": 4,
     "metadata": {},
     "output_type": "execute_result"
    }
   ],
   "source": [
    "tuple( math.floor(e) for e in np.array([-0.1, 2.1, 3.0]).T/np.array([0.2, 0.2, math.pi/18]).T ) ###kldmclindex"
   ]
  },
  {
   "cell_type": "code",
   "execution_count": null,
   "id": "3ecdb426",
   "metadata": {},
   "outputs": [],
   "source": []
  }
 ],
 "metadata": {
  "kernelspec": {
   "display_name": "Python 3 (ipykernel)",
   "language": "python",
   "name": "python3"
  },
  "language_info": {
   "codemirror_mode": {
    "name": "ipython",
    "version": 3
   },
   "file_extension": ".py",
   "mimetype": "text/x-python",
   "name": "python",
   "nbconvert_exporter": "python",
   "pygments_lexer": "ipython3",
   "version": "3.9.7"
  }
 },
 "nbformat": 4,
 "nbformat_minor": 5
}
